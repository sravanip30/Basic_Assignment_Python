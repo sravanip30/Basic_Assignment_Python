{
 "cells": [
  {
   "cell_type": "raw",
   "id": "b6beee46",
   "metadata": {},
   "source": [
    "1. In the below elements which of them are values or an expression? eg:- values can be integer or string and expressions will be mathematical operators.\n",
    "* \n",
    "'hello'\n",
    "-87.8\n",
    "- \n",
    "/ \n",
    "+\t\n",
    "6 \n",
    "\n",
    "Ans: *, -, /, + are expressions and -87.8,'hello',6 are values"
   ]
  },
  {
   "cell_type": "raw",
   "id": "b1ef0f8d",
   "metadata": {},
   "source": [
    "2. What is the difference between string and variable?\n",
    "Ans: string is any sequence of characters(which could be numbers or alphabets or special characters) written in either single quotes or double quotes.\n",
    "variable is something which is used to store any value. And that value can be of string or int or of any data type. In terms of backend it  refers to the memory location of where the value is actually stored."
   ]
  },
  {
   "cell_type": "raw",
   "id": "4cf8d30f",
   "metadata": {},
   "source": [
    "3.Describe three different data types.\n",
    "int --> int is a data type which can store any whole numbers like 0,200 ..\n",
    "float --> stores any decimal values like 12.02\n",
    "str --> stores any sequence of characters in quotes like \"python\" \"data structures\"\n",
    "bool --> stores either True or False values\n",
    "list --> mutable sequence of elements like ['a',1,2,3.1,['x','y','z']]"
   ]
  },
  {
   "cell_type": "raw",
   "id": "97b250fd",
   "metadata": {},
   "source": [
    "4.What is an expression made up of? What do all expressions do?\n",
    "An expression is a combination of operators and operands that performs some operation. Like evaluating an expression will lead to a value.\n",
    "Operators can be any arithmetic or logical or bitwise operators\n",
    "Operands can be any variable or a constant."
   ]
  },
  {
   "cell_type": "raw",
   "id": "df29555b",
   "metadata": {},
   "source": [
    "5. This assignment statements, like spam = 10. What is the difference between an expression and a statement?\n",
    "\n",
    "An expression evaluates to some result i.e some value. An expression always returns a value\n",
    "i.e it is a combination of operands and operators which upon performing the operation returns some result.\n",
    "\n",
    "Statement represents an action but it does not return anything. like in spam=10, it is assigning a value 10 to the variable spam. "
   ]
  },
  {
   "cell_type": "code",
   "execution_count": 16,
   "id": "8ee1ca89",
   "metadata": {},
   "outputs": [
    {
     "data": {
      "text/plain": [
       "22"
      ]
     },
     "execution_count": 16,
     "metadata": {},
     "output_type": "execute_result"
    }
   ],
   "source": [
    "# 6. After running the following code, what does the variable bacon contain?\n",
    "bacon = 22\n",
    "bacon + 1\n",
    "bacon\n",
    "# The variable bacon will return the original value it has i.e 22. \n",
    "# Because an increment operation is being performed but that is not replacing the original values."
   ]
  },
  {
   "cell_type": "code",
   "execution_count": 18,
   "id": "fa7b1de5",
   "metadata": {},
   "outputs": [
    {
     "data": {
      "text/plain": [
       "'spamspamspam'"
      ]
     },
     "execution_count": 18,
     "metadata": {},
     "output_type": "execute_result"
    }
   ],
   "source": [
    "#7. What should the values of the following two terms be?\n",
    "'spam' + 'spamspam'\n",
    "\n"
   ]
  },
  {
   "cell_type": "code",
   "execution_count": 20,
   "id": "26022ddf",
   "metadata": {},
   "outputs": [
    {
     "data": {
      "text/plain": [
       "'spamspamspam'"
      ]
     },
     "execution_count": 20,
     "metadata": {},
     "output_type": "execute_result"
    }
   ],
   "source": [
    "'spam' * 3\n",
    "# Both return the same result 'spamspamspam'"
   ]
  },
  {
   "cell_type": "raw",
   "id": "534ef109",
   "metadata": {},
   "source": [
    "8. Why is eggs a valid variable name while 100 is invalid?\n",
    "A variable name should always start with an alphabet and an underscore. It cannot start with a number."
   ]
  },
  {
   "cell_type": "raw",
   "id": "d0026bf1",
   "metadata": {},
   "source": [
    "9. What three functions can be used to get the integer, floating-point number, or string version of a value?\n",
    "int(),float(),str() functions can be used to get the corresponding version of a value."
   ]
  },
  {
   "cell_type": "code",
   "execution_count": 31,
   "id": "cb53a550",
   "metadata": {},
   "outputs": [
    {
     "ename": "TypeError",
     "evalue": "can only concatenate str (not \"int\") to str",
     "output_type": "error",
     "traceback": [
      "\u001b[1;31m---------------------------------------------------------------------------\u001b[0m",
      "\u001b[1;31mTypeError\u001b[0m                                 Traceback (most recent call last)",
      "\u001b[1;32m<ipython-input-31-7b7b3a7a8add>\u001b[0m in \u001b[0;36m<module>\u001b[1;34m\u001b[0m\n\u001b[0;32m      1\u001b[0m \u001b[1;31m#10. Why does this expression cause an error? How can you fix it?\u001b[0m\u001b[1;33m\u001b[0m\u001b[1;33m\u001b[0m\u001b[1;33m\u001b[0m\u001b[0m\n\u001b[1;32m----> 2\u001b[1;33m \u001b[1;34m'I have eaten '\u001b[0m \u001b[1;33m+\u001b[0m \u001b[1;36m99\u001b[0m \u001b[1;33m+\u001b[0m \u001b[1;34m' burritos.'\u001b[0m\u001b[1;33m\u001b[0m\u001b[1;33m\u001b[0m\u001b[0m\n\u001b[0m\u001b[0;32m      3\u001b[0m \u001b[1;33m\u001b[0m\u001b[0m\n",
      "\u001b[1;31mTypeError\u001b[0m: can only concatenate str (not \"int\") to str"
     ]
    }
   ],
   "source": [
    "#10. Why does this expression cause an error? How can you fix it?\n",
    "'I have eaten ' + 99 + ' burritos.'\n",
    "\n",
    "This is causing an error because the value 99 is an integer. And the concatenation can be performed only on string values. \n",
    "Coverting the value 99 to string will solve the issue"
   ]
  },
  {
   "cell_type": "code",
   "execution_count": 32,
   "id": "2a4de424",
   "metadata": {},
   "outputs": [
    {
     "data": {
      "text/plain": [
       "'I have eaten 99 burritos.'"
      ]
     },
     "execution_count": 32,
     "metadata": {},
     "output_type": "execute_result"
    }
   ],
   "source": [
    "'I have eaten ' + '99' + ' burritos.'"
   ]
  }
 ],
 "metadata": {
  "kernelspec": {
   "display_name": "Python 3",
   "language": "python",
   "name": "python3"
  },
  "language_info": {
   "codemirror_mode": {
    "name": "ipython",
    "version": 3
   },
   "file_extension": ".py",
   "mimetype": "text/x-python",
   "name": "python",
   "nbconvert_exporter": "python",
   "pygments_lexer": "ipython3",
   "version": "3.8.8"
  }
 },
 "nbformat": 4,
 "nbformat_minor": 5
}
