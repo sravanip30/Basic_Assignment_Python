{
 "cells": [
  {
   "cell_type": "raw",
   "id": "e7577011",
   "metadata": {},
   "source": [
    "1.What are the two values of the Boolean data type? How do you write them?\n",
    "True and False are the two values of Boolean data type\n",
    "x=True\n",
    "y=False"
   ]
  },
  {
   "cell_type": "raw",
   "id": "e9666a02",
   "metadata": {},
   "source": [
    "2. What are the three different types of Boolean operators?\n",
    "and,or, not are the boolean operators."
   ]
  },
  {
   "cell_type": "raw",
   "id": "cf941885",
   "metadata": {},
   "source": [
    "3. Make a list of each Boolean operator's truth tables (i.e. every possible combination of Boolean values for the operator and what it evaluate ).\n",
    "==============================\n",
    "AND Operator\n",
    "x     y    output\n",
    "True True   True\n",
    "True False  False\n",
    "False True  False\n",
    "False False False\n",
    "===============================\n",
    "Or Operator\n",
    "x     y    output\n",
    "True True True\n",
    "True False True\n",
    "False True True\n",
    "False False False\n",
    "================================\n",
    "Not Operator\n",
    "\n",
    "X      Output\n",
    "True    False\n",
    "False   True\n"
   ]
  },
  {
   "cell_type": "code",
   "execution_count": null,
   "id": "fa12590a",
   "metadata": {},
   "outputs": [],
   "source": [
    "#4. What are the values of the following expressions?\n",
    "(5 > 4) and (3 == 5)       --> False\n",
    "not (5 > 4)                --> False\n",
    "(5 > 4) or (3 == 5)        --> True\n",
    "not ((5 > 4) or (3 == 5))  --> False\n",
    "(True and True) and (True == False)  --> False\n",
    "(not False) or (not True)  --> True"
   ]
  },
  {
   "cell_type": "raw",
   "id": "01125c2a",
   "metadata": {},
   "source": [
    "5. What are the six comparison operators?\n",
    "> greater than\n",
    "< lesser than\n",
    ">= greater than or equal to\n",
    "<= lesser than or equal to\n",
    "== equal to\n",
    "!= not equal to"
   ]
  },
  {
   "cell_type": "code",
   "execution_count": null,
   "id": "80610f3e",
   "metadata": {},
   "outputs": [],
   "source": [
    "6. How do you tell the difference between the equal to and assignment operators?Describe a condition and when you would use one.\n",
    "\n",
    "For equal to we use == operator\n",
    "For assignment we use = operator\n",
    "\n",
    "we use equal to for checking a condition like if 2 values are equal or not. if x==5 :\n",
    "we use assigment operator for assigning a value to a variable. example  x=3\n"
   ]
  },
  {
   "cell_type": "code",
   "execution_count": 12,
   "id": "2eea435f",
   "metadata": {},
   "outputs": [
    {
     "name": "stdout",
     "output_type": "stream",
     "text": [
      "ham\n",
      "spam\n",
      "spam\n"
     ]
    }
   ],
   "source": [
    "#7. Identify the three blocks in this code:\n",
    "spam = 0\n",
    "if spam == 10:\n",
    "    print('eggs')\n",
    "if spam > 5:\n",
    "    print('bacon')\n",
    "else:\n",
    "    print('ham')\n",
    "    print('spam')\n",
    "    print('spam')"
   ]
  },
  {
   "cell_type": "code",
   "execution_count": 13,
   "id": "e1938012",
   "metadata": {},
   "outputs": [
    {
     "name": "stdout",
     "output_type": "stream",
     "text": [
      "Greetings\n"
     ]
    }
   ],
   "source": [
    "#8. Write code that prints Hello if 1 is stored in spam, prints Howdy if 2 is stored in spam, and prints Greetings! if anything else is stored in spam.\n",
    "if spam == 1:\n",
    "    print(\"Hello\")\n",
    "elif spam ==2:\n",
    "    print(\"Howdy\")\n",
    "else :\n",
    "    print(\"Greetings\")\n"
   ]
  },
  {
   "cell_type": "raw",
   "id": "89fcef01",
   "metadata": {},
   "source": [
    "9.If your programme is stuck in an endless loop, what keys you’ll press?\n",
    "Ctrl+c should be used to exit from an infinite loop"
   ]
  },
  {
   "cell_type": "raw",
   "id": "352185a6",
   "metadata": {},
   "source": [
    "10. How can you tell the difference between break and continue?\n",
    "Break is used exit the loop and continue is used to exit the current iteration \n",
    "(i.e exit the current iteration and starts executig the next iteration)"
   ]
  },
  {
   "cell_type": "markdown",
   "id": "d008f4d0",
   "metadata": {},
   "source": [
    "11. In a for loop, what is the difference between range(10), range(0, 10), and range(0, 10, 1)?\n",
    "All 3 syntaxes meant the same thing, they perform the same thing.\n",
    "All 3 syntaxes in a for loop consider values from 0 to 9"
   ]
  },
  {
   "cell_type": "code",
   "execution_count": 6,
   "id": "5206d53f",
   "metadata": {},
   "outputs": [
    {
     "name": "stdout",
     "output_type": "stream",
     "text": [
      "1\n",
      "2\n",
      "3\n",
      "4\n",
      "5\n",
      "6\n",
      "7\n",
      "8\n",
      "9\n",
      "10\n"
     ]
    }
   ],
   "source": [
    "#12. Write a short program that prints the numbers 1 to 10 using a for loop. Then write an equivalent program that prints the numbers 1 to 10 using a while loop.\n",
    "\n",
    "for i in range(1,11):\n",
    "    print(i)"
   ]
  },
  {
   "cell_type": "code",
   "execution_count": 8,
   "id": "ccc73853",
   "metadata": {},
   "outputs": [
    {
     "name": "stdout",
     "output_type": "stream",
     "text": [
      "1\n",
      "2\n",
      "3\n",
      "4\n",
      "5\n",
      "6\n",
      "7\n",
      "8\n",
      "9\n",
      "10\n",
      "11\n"
     ]
    }
   ],
   "source": [
    "i=1\n",
    "while (i<=11):\n",
    "    print(i)\n",
    "    i=i+1;"
   ]
  },
  {
   "cell_type": "raw",
   "id": "231cdffb",
   "metadata": {},
   "source": [
    "13. If you had a function named bacon() inside a module named spam, how would you call it after importing spam?\n",
    "\n",
    "spam.bacon()\n"
   ]
  }
 ],
 "metadata": {
  "kernelspec": {
   "display_name": "Python 3",
   "language": "python",
   "name": "python3"
  },
  "language_info": {
   "codemirror_mode": {
    "name": "ipython",
    "version": 3
   },
   "file_extension": ".py",
   "mimetype": "text/x-python",
   "name": "python",
   "nbconvert_exporter": "python",
   "pygments_lexer": "ipython3",
   "version": "3.8.8"
  }
 },
 "nbformat": 4,
 "nbformat_minor": 5
}
