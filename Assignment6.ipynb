{
 "cells": [
  {
   "cell_type": "code",
   "execution_count": null,
   "id": "147a2ffc",
   "metadata": {},
   "outputs": [],
   "source": [
    "#1. What are escape characters, and how do you use them?\n",
    "Escape characters are characters used for printing a special character.Backslash is referred as an escape character(\"\\\")\n",
    "we write the special character after backslash. Ex: \"\\\"\" -->Here double quote is printed.\n",
    "                                                                                                                    "
   ]
  },
  {
   "cell_type": "code",
   "execution_count": 6,
   "id": "fcd531dd",
   "metadata": {},
   "outputs": [
    {
     "name": "stdout",
     "output_type": "stream",
     "text": [
      "That is Alice's cat.\n"
     ]
    }
   ],
   "source": [
    "#2. What do the escape characters n and t stand for?\n",
    "n --> stands for new line\n",
    "t --> stands for tab."
   ]
  },
  {
   "cell_type": "code",
   "execution_count": 7,
   "id": "cd8da828",
   "metadata": {},
   "outputs": [
    {
     "name": "stdout",
     "output_type": "stream",
     "text": [
      "Hi this is Sravani\n",
      "I am fron FSDS batch\n"
     ]
    }
   ],
   "source": [
    "#3. What is the way to include backslash characters in a string?\n",
    "print(\"Hi this is Sravani\\nI am fron FSDS batch\")"
   ]
  },
  {
   "cell_type": "code",
   "execution_count": null,
   "id": "9c215ec0",
   "metadata": {},
   "outputs": [],
   "source": [
    "#4. The string \"Howl's Moving Castle\" is a correct value. Why isn't the single quote character in the word Howl's not escaped a problem?\n",
    "print(\"Howl's Moving Castle\")\n",
    "Because the single quote is enclosed between the double quotes, whatever is between the starting double quote \n",
    "and the ending double quote will be printed."
   ]
  },
  {
   "cell_type": "code",
   "execution_count": null,
   "id": "802fa0e6",
   "metadata": {},
   "outputs": [],
   "source": [
    "#5. How do you write a string of newlines if you don't want to use the n character?\n",
    "we can use either 3 single quotes or 3 double quotes to write a string of multiple line."
   ]
  },
  {
   "cell_type": "code",
   "execution_count": null,
   "id": "91ad146d",
   "metadata": {},
   "outputs": [],
   "source": [
    "6. What are the values of the given expressions?\n",
    "'Hello, world!'[1] --> 'e' , prints the character at index 1\n",
    "'Hello, world!'[0:5] --> 'Hello' , prints the characters from index 0 to 5\n",
    "'Hello, world!'[:5] --> 'Hello' ,prints the characters from index 0 to 5\n",
    "'Hello, world!'[3:] --> 'lo, world' , prints the characters from index 3 to end of the string\n"
   ]
  },
  {
   "cell_type": "code",
   "execution_count": null,
   "id": "ee1c02c8",
   "metadata": {},
   "outputs": [],
   "source": [
    "7. What are the values of the following expressions?\n",
    "'Hello'.upper() --> 'HELLO'\n",
    "'Hello'.upper().isupper() --> True\n",
    "'Hello'.upper().lower() --> False"
   ]
  },
  {
   "cell_type": "code",
   "execution_count": 19,
   "id": "ccf410d5",
   "metadata": {},
   "outputs": [
    {
     "data": {
      "text/plain": [
       "['Remember,', 'remember,', 'the', 'fifth', 'of', 'July.']"
      ]
     },
     "execution_count": 19,
     "metadata": {},
     "output_type": "execute_result"
    }
   ],
   "source": [
    "#8. What are the values of the following expressions?\n",
    "'Remember, remember, the fifth of July.'.split()\n"
   ]
  },
  {
   "cell_type": "code",
   "execution_count": 20,
   "id": "70c717cb",
   "metadata": {},
   "outputs": [
    {
     "data": {
      "text/plain": [
       "'There-can-only-one.'"
      ]
     },
     "execution_count": 20,
     "metadata": {},
     "output_type": "execute_result"
    }
   ],
   "source": [
    "'-'.join('There can only one.'.split())"
   ]
  },
  {
   "cell_type": "code",
   "execution_count": null,
   "id": "29147465",
   "metadata": {},
   "outputs": [],
   "source": [
    "9. What are the methods for right-justifying, left-justifying, and centering a string?\n",
    "rjust(),ljust() and center() are the method used for justifying right, left and center"
   ]
  },
  {
   "cell_type": "code",
   "execution_count": null,
   "id": "2e0ae9c3",
   "metadata": {},
   "outputs": [],
   "source": [
    "10. What is the best way to remove whitespace characters from the start or end?\n",
    "lstrip() --> for removing the whitespace at the start \n",
    "rstrip() --> for removing the whitespace at the end.\n",
    "\n"
   ]
  },
  {
   "cell_type": "code",
   "execution_count": null,
   "id": "da32473c",
   "metadata": {},
   "outputs": [],
   "source": []
  }
 ],
 "metadata": {
  "kernelspec": {
   "display_name": "Python 3",
   "language": "python",
   "name": "python3"
  },
  "language_info": {
   "codemirror_mode": {
    "name": "ipython",
    "version": 3
   },
   "file_extension": ".py",
   "mimetype": "text/x-python",
   "name": "python",
   "nbconvert_exporter": "python",
   "pygments_lexer": "ipython3",
   "version": "3.8.8"
  }
 },
 "nbformat": 4,
 "nbformat_minor": 5
}
