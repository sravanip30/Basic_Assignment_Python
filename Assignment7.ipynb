{
 "cells": [
  {
   "cell_type": "raw",
   "id": "a6a765c4",
   "metadata": {},
   "source": [
    "#1. What is the name of the feature responsible for generating Regex objects?\n",
    "import re -- > will import the regex library\n",
    "re.compile() --> will create the regex object"
   ]
  },
  {
   "cell_type": "raw",
   "id": "3bc683dd",
   "metadata": {},
   "source": [
    "2. Why do raw strings often appear in Regex objects?\n",
    "raw string helps us to treat special characters such as escape characters(/,\\.(,)) also as literal characters. \n",
    "Without raw string we might have to add a backslash for every escape charcter."
   ]
  },
  {
   "cell_type": "raw",
   "id": "6a363718",
   "metadata": {},
   "source": [
    "#3. What is the return value of the search() method? \n",
    "search() --> will search if there is any match in the string passed with the regex"
   ]
  },
  {
   "cell_type": "raw",
   "id": "07c180f5",
   "metadata": {},
   "source": [
    "#4. From a Match item, how do you get the actual strings that match the pattern?\n",
    "group() --> method is used to get the actal matched string."
   ]
  },
  {
   "cell_type": "code",
   "execution_count": null,
   "id": "423d69a0",
   "metadata": {},
   "outputs": [],
   "source": [
    "#6. In standard expression syntax, parentheses and intervals have distinct meanings.How can you tell a regex that you want it to fit real parentheses and periods?\n",
    "We can use escape characters to interpret the parentheses and periods for real. \n",
    "() --> \\(\\)\n",
    ". --> \\."
   ]
  },
  {
   "cell_type": "raw",
   "id": "c232066d",
   "metadata": {},
   "source": [
    "#7. The findall() method returns a string list or a list of string tuples. What causes it to return one of the two options?\n",
    "String list --> when there are no groups in the regular expression\n",
    "list of strin tuples --> when there are groups in the regular expression"
   ]
  },
  {
   "cell_type": "raw",
   "id": "a24028d0",
   "metadata": {},
   "source": [
    "#8. In standard expressions, what does the | character mean?\n",
    "\n",
    "| --> it is like 'or' condition which can be used to match any of the expression"
   ]
  },
  {
   "cell_type": "raw",
   "id": "c4db1320",
   "metadata": {},
   "source": [
    "#9. In regular expressions, what does the character stand for?\n",
    "? --> "
   ]
  },
  {
   "cell_type": "raw",
   "id": "b1819610",
   "metadata": {},
   "source": [
    "#10.In regular expressions, what is the difference between the + and * characters?\n",
    "* --> to match 0 or more occurences of the regular expression\n",
    "+ --> to match 1 or more occurences of the regular expression"
   ]
  },
  {
   "cell_type": "raw",
   "id": "ed865912",
   "metadata": {},
   "source": [
    "11. What is the difference between {4} and {4,5} in regular expression?\n",
    "{4} --> to match exactly 4 occurences of the regex\n",
    "{4,5} --> will match wither 4 or 5 occurences of the regex"
   ]
  },
  {
   "cell_type": "raw",
   "id": "2dc25a8f",
   "metadata": {},
   "source": [
    "12. What do you mean by the \\d, \\w, and \\s shorthand character classes signify in regular expressions?\n",
    "\\d --> stands for any numeric digit from 0 to 9\n",
    "\\w --> stands for any letter that could be a numberic digit or alphabet or underscore\n",
    "\\s --> stands for space , newline or tab"
   ]
  },
  {
   "cell_type": "raw",
   "id": "e90c338f",
   "metadata": {},
   "source": [
    "13. What do means by \\D, \\W, and \\S shorthand character classes signify in regular expressions?\n",
    "\\D --> stands for any non-numeric digit\n",
    "\\W --> stands for any letter that is not a numberic digit or alphabet or underscore\n",
    "\\S --> stands for any character that is not space , newline or tab"
   ]
  },
  {
   "cell_type": "raw",
   "id": "3132ba7a",
   "metadata": {},
   "source": [
    "14. What is the difference between .*? and .*?\n",
    ".* --> will match everything and anything i.e will match the longest string possible\n",
    ".*? --> will match the shortest string possible "
   ]
  },
  {
   "cell_type": "raw",
   "id": "466b2bce",
   "metadata": {},
   "source": [
    "15. What is the syntax for matching both numbers and lowercase letters with a character class?\n",
    "[0-9a-z_]"
   ]
  },
  {
   "cell_type": "raw",
   "id": "77795669",
   "metadata": {},
   "source": [
    "16. What is the procedure for making a normal expression in regax case insensitive?\n",
    "By passing re.I or re.IGNORECASE to re.compile"
   ]
  },
  {
   "cell_type": "raw",
   "id": "a3045888",
   "metadata": {},
   "source": [
    "17. What does the . character normally match? What does it match if re.DOTALL is passed as 2nd argument in re.compile()?\n",
    ". --> matches any character except new line\n",
    "re.DOTALL --> when passed as a 2nd argument to re.compile(), it will match all characters including new line"
   ]
  },
  {
   "cell_type": "code",
   "execution_count": 8,
   "id": "4711eaf1",
   "metadata": {},
   "outputs": [
    {
     "data": {
      "text/plain": [
       "'11'"
      ]
     },
     "execution_count": 8,
     "metadata": {},
     "output_type": "execute_result"
    }
   ],
   "source": [
    "#18. If numReg = re.compile(r'\\d+'), what will numRegex.sub('X', '11 drummers, 10 pipers, five rings, 4 hen') return?\n",
    "import re\n",
    "numReg = re.compile(r'\\d+')\n",
    "numReg.sub('X', '11 drummers, 10 pipers, five rings, 4 hen')"
   ]
  },
  {
   "cell_type": "raw",
   "id": "a1e68f57",
   "metadata": {},
   "source": [
    "#19. What does passing re.VERBOSE as the 2nd argument to re.compile() allow to do?\n",
    "re.VERBOSE tells re.compile() to ignore the white spaces in between the regex it has,\n",
    "it is just for making the regex readable and easy to understand"
   ]
  },
  {
   "cell_type": "code",
   "execution_count": 3,
   "id": "3302fe1b",
   "metadata": {},
   "outputs": [
    {
     "data": {
      "text/plain": [
       "'X drummers, X pipers, five rings, X hen'"
      ]
     },
     "execution_count": 3,
     "metadata": {},
     "output_type": "execute_result"
    }
   ],
   "source": [
    "20. How would you write a regex that match a number with comma for every three digits? It must match the given following:\n",
    "'42'\n",
    "'1,234'\n",
    "'6,368,745'\n",
    "but not the following:\n",
    "'12,34,567' (which has only two digits between the commas)\n",
    "'1234' (which lacks commas)\n",
    "\\d\\d"
   ]
  },
  {
   "cell_type": "code",
   "execution_count": 28,
   "id": "35586f0a",
   "metadata": {},
   "outputs": [
    {
     "data": {
      "text/plain": [
       "'12'"
      ]
     },
     "execution_count": 28,
     "metadata": {},
     "output_type": "execute_result"
    }
   ],
   "source": [
    "regexp=re.compile(r'^\\d{1,3}(\\,\\d{3})*$')\n",
    "output=regexp.search('12')\n",
    "output.group()"
   ]
  },
  {
   "cell_type": "code",
   "execution_count": 67,
   "id": "0cb20aaa",
   "metadata": {},
   "outputs": [
    {
     "data": {
      "text/plain": [
       "'Haruto Watanabe'"
      ]
     },
     "execution_count": 67,
     "metadata": {},
     "output_type": "execute_result"
    }
   ],
   "source": [
    "\"\"\"21. How would you write a regex that matches the full name of someone whose last name is Watanabe? You can assume that the first name that comes before it will always be one word that begins with a capital letter. The regex must match the following:\n",
    "'Haruto Watanabe'\n",
    "'Alice Watanabe'\n",
    "'RoboCop Watanabe'\n",
    "but not the following:\n",
    "'haruto Watanabe' (where the first name is not capitalized)\n",
    "'Mr. Watanabe' (where the preceding word has a nonletter character)\n",
    "'Watanabe' (which has no first name)\n",
    "'Haruto watanabe' (where Watanabe is not capitalized)\"\"\"\n",
    "\n",
    "regexp=re.compile(r'^[A-Z]([A-Za-z])+ [A-Z]([a-z])+$')\n",
    "output=regexp.search('Haruto Watanabe')\n",
    "output.group()"
   ]
  },
  {
   "cell_type": "code",
   "execution_count": 68,
   "id": "0e9d9ad5",
   "metadata": {},
   "outputs": [
    {
     "ename": "AttributeError",
     "evalue": "'NoneType' object has no attribute 'group'",
     "output_type": "error",
     "traceback": [
      "\u001b[1;31m---------------------------------------------------------------------------\u001b[0m",
      "\u001b[1;31mAttributeError\u001b[0m                            Traceback (most recent call last)",
      "\u001b[1;32m<ipython-input-68-6def05ccf4ae>\u001b[0m in \u001b[0;36m<module>\u001b[1;34m\u001b[0m\n\u001b[0;32m     15\u001b[0m \u001b[0mregexp\u001b[0m\u001b[1;33m=\u001b[0m\u001b[0mre\u001b[0m\u001b[1;33m.\u001b[0m\u001b[0mcompile\u001b[0m\u001b[1;33m(\u001b[0m\u001b[1;34mr'^(Alice|Bob|Carol) (eats|pets|throws) (apples|cats|baseballs)\\.$'\u001b[0m\u001b[1;33m,\u001b[0m\u001b[0mre\u001b[0m\u001b[1;33m.\u001b[0m\u001b[0mIGNORECASE\u001b[0m\u001b[1;33m)\u001b[0m\u001b[1;33m\u001b[0m\u001b[1;33m\u001b[0m\u001b[0m\n\u001b[0;32m     16\u001b[0m \u001b[0moutput\u001b[0m\u001b[1;33m=\u001b[0m\u001b[0mregexp\u001b[0m\u001b[1;33m.\u001b[0m\u001b[0msearch\u001b[0m\u001b[1;33m(\u001b[0m\u001b[1;34m'Carol eats 7 cats.'\u001b[0m\u001b[1;33m)\u001b[0m\u001b[1;33m\u001b[0m\u001b[1;33m\u001b[0m\u001b[0m\n\u001b[1;32m---> 17\u001b[1;33m \u001b[0moutput\u001b[0m\u001b[1;33m.\u001b[0m\u001b[0mgroup\u001b[0m\u001b[1;33m(\u001b[0m\u001b[1;33m)\u001b[0m\u001b[1;33m\u001b[0m\u001b[1;33m\u001b[0m\u001b[0m\n\u001b[0m",
      "\u001b[1;31mAttributeError\u001b[0m: 'NoneType' object has no attribute 'group'"
     ]
    }
   ],
   "source": [
    "\"\"\"22. How would you write a regex that matches a sentence where the first word is either Alice, Bob, or Carol; \n",
    "the second word is either eats, pets, or throws; the third word is apples, cats, or baseballs;\n",
    "and the sentence ends with a period? This regex should be case-insensitive. It must match the following:\n",
    "'Alice eats apples.'\n",
    "'Bob pets cats.'\n",
    "'Carol throws baseballs.'\n",
    "'Alice throws Apples.'\n",
    "'BOB EATS CATS.'\n",
    "but not the following:\n",
    "'RoboCop eats apples.'\n",
    "'ALICE THROWS FOOTBALLS.'\n",
    "'Carol eats 7 cats.'\"\"\"\n",
    "\n",
    "\n",
    "regexp=re.compile(r'^(Alice|Bob|Carol) (eats|pets|throws) (apples|cats|baseballs)\\.$',re.IGNORECASE)\n",
    "output=regexp.search('Carol eats 7 cats.')\n",
    "output.group()"
   ]
  },
  {
   "cell_type": "code",
   "execution_count": null,
   "id": "bd001984",
   "metadata": {},
   "outputs": [],
   "source": [
    "\n",
    "\n",
    "\n"
   ]
  }
 ],
 "metadata": {
  "kernelspec": {
   "display_name": "Python 3",
   "language": "python",
   "name": "python3"
  },
  "language_info": {
   "codemirror_mode": {
    "name": "ipython",
    "version": 3
   },
   "file_extension": ".py",
   "mimetype": "text/x-python",
   "name": "python",
   "nbconvert_exporter": "python",
   "pygments_lexer": "ipython3",
   "version": "3.8.8"
  }
 },
 "nbformat": 4,
 "nbformat_minor": 5
}
