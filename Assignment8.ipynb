{
 "cells": [
  {
   "cell_type": "markdown",
   "id": "1c5f77d1",
   "metadata": {},
   "source": [
    "1. Is the Python Standard Library included with PyInputPlus?\n",
    "No, it is has to be installed separately using PIP"
   ]
  },
  {
   "cell_type": "markdown",
   "id": "716d4df4",
   "metadata": {},
   "source": [
    "2. Why is PyInputPlus commonly imported with import pyinputplus as pypi?\n",
    "so that we dont have to type pyinputplus every time when we try to call a function from pyinputplus"
   ]
  },
  {
   "cell_type": "markdown",
   "id": "ef837285",
   "metadata": {},
   "source": [
    "3. How do you distinguish between inputInt() and inputFloat()?\n",
    "inputInt() --> will only accept integers\n",
    "inputFloat() --> will only accept float numbers as input"
   ]
  },
  {
   "cell_type": "markdown",
   "id": "52190992",
   "metadata": {},
   "source": [
    "4. Using PyInputPlus, how do you ensure that the user enters a whole number between 0 and 99?\n",
    "by passing the arguments min, lessthan to inputNum()\n",
    "pyip.inputInt('>',min=0, lessthan=99)"
   ]
  },
  {
   "cell_type": "markdown",
   "id": "b4f4607c",
   "metadata": {},
   "source": [
    "5. What is transferred to the keyword arguments allowRegexes and blockRegexes?\n",
    "allowRegexes --> will accept the input that only satisfies the regex passed to allowRegexes\n",
    "blockRegexes --> will accept any input that does not satisfy the regex passed to blockRegexes"
   ]
  },
  {
   "cell_type": "markdown",
   "id": "4f6306b8",
   "metadata": {},
   "source": [
    "6. If a blank input is entered three times, what does inputStr(limit=3) do?\n",
    "then it will stop asking input from the user."
   ]
  },
  {
   "cell_type": "markdown",
   "id": "495233b7",
   "metadata": {},
   "source": [
    "7. If blank input is entered three times, what does inputStr(limit=3, default='hello') do?\n",
    "It will stop asking input from the user and considers the default input i.e hello as the input value\n"
   ]
  }
 ],
 "metadata": {
  "kernelspec": {
   "display_name": "Python 3",
   "language": "python",
   "name": "python3"
  },
  "language_info": {
   "codemirror_mode": {
    "name": "ipython",
    "version": 3
   },
   "file_extension": ".py",
   "mimetype": "text/x-python",
   "name": "python",
   "nbconvert_exporter": "python",
   "pygments_lexer": "ipython3",
   "version": "3.8.8"
  }
 },
 "nbformat": 4,
 "nbformat_minor": 5
}
