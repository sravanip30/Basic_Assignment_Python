{
 "cells": [
  {
   "cell_type": "raw",
   "id": "db7ddded",
   "metadata": {},
   "source": [
    "1. To what does a relative path refer?\n",
    "relative path referes to the current working directory"
   ]
  },
  {
   "cell_type": "raw",
   "id": "20c1e1e8",
   "metadata": {},
   "source": [
    "2. What does an absolute path start with your operating system?\n",
    "An absolute path always starts with the root folder and in my case , i.e as my OS being windows it starts with C:\\"
   ]
  },
  {
   "cell_type": "raw",
   "id": "1bb0b341",
   "metadata": {},
   "source": [
    "3. What do the functions os.getcwd() and os.chdir() do?\n",
    "os.getcwd() --> It prints the current working directory\n",
    "os.chdir() --> it is used for changing the current working directory"
   ]
  },
  {
   "cell_type": "raw",
   "id": "50101d46",
   "metadata": {},
   "source": [
    "4. What are the . and .. folders?\n",
    ". --> represent the current directory\n",
    "..--> represents the parent directory"
   ]
  },
  {
   "cell_type": "raw",
   "id": "7687d106",
   "metadata": {},
   "source": [
    "5. In C:\\bacon\\eggs\\spam.txt, which part is the dir name, and which part is the base name?\n",
    "    dir --> C:\\bacon\\eggs\\\n",
    "    base --> spam.txt"
   ]
  },
  {
   "cell_type": "raw",
   "id": "cb66a650",
   "metadata": {},
   "source": [
    "6. What are the three “mode” arguments that can be passed to the open() function?\n",
    "r --> read mode\n",
    "w --> write mode\n",
    "a --> append mode"
   ]
  },
  {
   "cell_type": "raw",
   "id": "8031d4aa",
   "metadata": {},
   "source": [
    "7. What happens if an existing file is opened in write mode?\n",
    "It will override all the content in the existing file "
   ]
  },
  {
   "cell_type": "raw",
   "id": "a64daedd",
   "metadata": {},
   "source": [
    "8. How do you tell the difference between read() and readlines()?\n",
    "read() --> reads the entire file as one string\n",
    "readlines() --> will consider each line of the file as a string"
   ]
  },
  {
   "cell_type": "raw",
   "id": "76e2f53a",
   "metadata": {},
   "source": [
    "9. What data structure does a shelf value resemble?\n",
    "dictionary"
   ]
  },
  {
   "cell_type": "code",
   "execution_count": null,
   "id": "5b4d2e6e",
   "metadata": {},
   "outputs": [],
   "source": [
    "\n"
   ]
  }
 ],
 "metadata": {
  "kernelspec": {
   "display_name": "Python 3",
   "language": "python",
   "name": "python3"
  },
  "language_info": {
   "codemirror_mode": {
    "name": "ipython",
    "version": 3
   },
   "file_extension": ".py",
   "mimetype": "text/x-python",
   "name": "python",
   "nbconvert_exporter": "python",
   "pygments_lexer": "ipython3",
   "version": "3.8.8"
  }
 },
 "nbformat": 4,
 "nbformat_minor": 5
}
