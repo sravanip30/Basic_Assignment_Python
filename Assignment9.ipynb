{
 "cells": [
  {
   "cell_type": "code",
   "execution_count": null,
   "id": "56dc5f5c",
   "metadata": {},
   "outputs": [],
   "source": [
    "1. To what does a relative path refer?\n",
    "relative path referes to the current working directory"
   ]
  },
  {
   "cell_type": "code",
   "execution_count": null,
   "id": "2a7b4534",
   "metadata": {},
   "outputs": [],
   "source": [
    "2. What does an absolute path start with your operating system?\n",
    "An absolute path always starts with the root folder and in my case , i.e as my OS being windows it starts with C:\\"
   ]
  },
  {
   "cell_type": "code",
   "execution_count": null,
   "id": "fbf5ca82",
   "metadata": {},
   "outputs": [],
   "source": [
    "3. What do the functions os.getcwd() and os.chdir() do?\n",
    "os.getcwd() --> It prints the current working directory\n",
    "os.chdir() --> it is used for changing the current working directory"
   ]
  },
  {
   "cell_type": "code",
   "execution_count": null,
   "id": "1894123f",
   "metadata": {},
   "outputs": [],
   "source": [
    "4. What are the . and .. folders?\n",
    ". --> represent the current directory\n",
    "..--> represents the parent directory"
   ]
  },
  {
   "cell_type": "code",
   "execution_count": null,
   "id": "74c4e5fc",
   "metadata": {},
   "outputs": [],
   "source": [
    "5. In C:\\bacon\\eggs\\spam.txt, which part is the dir name, and which part is the base name?\n",
    "    dir --> C:\\bacon\\eggs\\\n",
    "    base --> spam.txt"
   ]
  },
  {
   "cell_type": "code",
   "execution_count": null,
   "id": "63f0abee",
   "metadata": {},
   "outputs": [],
   "source": [
    "6. What are the three “mode” arguments that can be passed to the open() function?\n",
    "r --> read mode\n",
    "w --> write mode\n",
    "a --> append mode"
   ]
  },
  {
   "cell_type": "code",
   "execution_count": null,
   "id": "ec11f2ad",
   "metadata": {},
   "outputs": [],
   "source": [
    "7. What happens if an existing file is opened in write mode?\n",
    "It will override all the content in the existing file "
   ]
  },
  {
   "cell_type": "code",
   "execution_count": null,
   "id": "82cb56bb",
   "metadata": {},
   "outputs": [],
   "source": [
    "8. How do you tell the difference between read() and readlines()?\n",
    "read() --> reads the entire file as one string\n",
    "readlines() --> will consider each line of the file as a string"
   ]
  },
  {
   "cell_type": "code",
   "execution_count": null,
   "id": "f91b9068",
   "metadata": {},
   "outputs": [],
   "source": [
    "9. What data structure does a shelf value resemble?\n",
    "dictionary"
   ]
  },
  {
   "cell_type": "code",
   "execution_count": null,
   "id": "5b4d2e6e",
   "metadata": {},
   "outputs": [],
   "source": [
    "\n"
   ]
  }
 ],
 "metadata": {
  "kernelspec": {
   "display_name": "Python 3",
   "language": "python",
   "name": "python3"
  },
  "language_info": {
   "codemirror_mode": {
    "name": "ipython",
    "version": 3
   },
   "file_extension": ".py",
   "mimetype": "text/x-python",
   "name": "python",
   "nbconvert_exporter": "python",
   "pygments_lexer": "ipython3",
   "version": "3.8.8"
  }
 },
 "nbformat": 4,
 "nbformat_minor": 5
}
